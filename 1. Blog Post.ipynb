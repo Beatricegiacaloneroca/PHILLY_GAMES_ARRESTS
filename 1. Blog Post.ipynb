{
 "cells": [
  {
   "cell_type": "markdown",
   "id": "0ad8dc4f-f338-4100-bdb2-a427a7946b33",
   "metadata": {
    "tags": []
   },
   "source": [
    "# Are Philadelphia Crime Rates related to Philadelphia Sports Wins? \n",
    "### By Bea, Emmy, and Lillie"
   ]
  },
  {
   "cell_type": "markdown",
   "id": "c6546e87-238d-4f45-8000-a0f62b85597f",
   "metadata": {},
   "source": [
    "Have you ever wondered if there's more to the spirit of sports than just cheering from the stands?"
   ]
  },
  {
   "cell_type": "markdown",
   "id": "1182fae1-9ea6-4a7c-8d9b-7670c3ebaf1d",
   "metadata": {
    "tags": []
   },
   "source": [
    "![fire](img/pole2.avif) "
   ]
  },
  {
   "cell_type": "markdown",
   "id": "6ed3e5d0-84db-41d6-bc90-a5e808362887",
   "metadata": {},
   "source": [
    "The City of Brotherly Love, home to teams like the Eagles, Phillies, Flyers, and 76ers, boasts a fan base as passionate as any in the nation. However, this enthusiasm sometimes spills over into the streets, raising questions about sports celebrations and public safety. We collected data to see if *there is a correlation between Philadelphia sports wins and higher crime rates* (initial thinking is because of the rowdiness) *in areas near and surrounding the stadiums/arena and Philly sports bars*. However, a study done by UC Davis showed that happier youths, say from your local sports team winning, tend to be deterred from crime. So, does the happiness and exhilaration associated with a hometown sports team win influence Philadelphia residents from committing crimes and getting arrested? Let's find out!\n",
    "\n",
    "Let's take a look at the number of arrests in Philly from 2018-2019 during the individual seasons that these arrests occurred in. We included data before 2019 so that COVID would not be a variable in our results. There are some interesting trends to pay attention to!\n"
   ]
  },
  {
   "cell_type": "markdown",
   "id": "da474c13-1ba8-4832-b323-23c7b48de8cb",
   "metadata": {},
   "source": [
    "![number of arrests by season](img/seasons.png)"
   ]
  },
  {
   "cell_type": "markdown",
   "id": "82cee2a7-5e36-403b-8a76-d5843fe97c63",
   "metadata": {},
   "source": [
    "The 2018 season was a rollercoaster for Eagles fans. At the start in September, the average daily arrests were soaring at about 1,175. However, by the end of their season in December, this number dipped to around 1,075 arrests per day. But here's the kicker (pun intended): the lowest point was in November, averaging about 1,000 arrests per day, coinciding with the Eagles' most challenging period (1 win to 2 losses ratio). As the team bounced back in December with more wins, the arrest rates began to climb again. Does the city's mood sway with the team's fortunes? It seems so!\n",
    "\n",
    "The Phillies' season from March to September 2018 showed a dramatic fluctuation in arrest numbers. But here, we need to tread carefully, as warmer summer days might play a part in bringing more people (and potentially more arrests) outdoors. It's a classic case of correlation not always implying causation, but it's a fascinating observation nonetheless to see a tight Phillies' season (almost split between wins and losses at home) and non-consistent arrest data.\n",
    "\n",
    "During the short April-May season of 2019 for the 76ers, there's a noticeable increase trend. April saw an average of about 1,175 arrests per day, which increased to 1,275 in May. Interestingly, this increase in arrests contradicts our hypothesis because of the team's performance dip from 6 wins and 1 loss in April to a less favorable outcome in May. Basically, for the 76ers, when the team was doing well in April, there were less arrests than the arrests during the worse set of games in May (2 wins to 3 losses).\n",
    "\n",
    "With this data, we decided to take a deeper look and analyze where exactly where people tend to gather together and watch sports games: sports bars! We gathered addresses and coordinates of famous sports bars around the Greater Philadelphia area to see if there was a further connection between the locations of these crimes and the outcomes of sports games. In addition to sports bars, we located the stadiums that Philadelphia sports teams play in to further support that large gatherings of sports fans watching a game can contribute to crime.\n"
   ]
  },
  {
   "cell_type": "markdown",
   "id": "0cb74dea-c257-4136-a3ca-725719591264",
   "metadata": {},
   "source": [
    "![map!](img/map.png)"
   ]
  },
  {
   "cell_type": "markdown",
   "id": "0eebf777-5541-499d-8573-08cb33b8b66d",
   "metadata": {},
   "source": [
    "In this image, the blue dots represent locations of sports bars. The deeper red means a higher concentration of arrests. From this image alone, we can see that we can't make a correlation between crime rates and sports bar locations. This part of our hypothesis couldn't be supported by the data we found. \n",
    "\n",
    "What can we take away from all of this? We found a correlation between sports seasons and crime rates! However, it's essential to note that our findings don't extend to all aspects of the sports scene. When it comes to sports bars and the areas surrounding stadiums and arenas, the data doesn't reveal a significant change in arrest rates, regardless of whether our teams clinch victory or face defeat. This suggests that while the overall mood of the city might fluctuate with the cycle of sports triumphs and setbacks, these specific locales don't necessarily mirror the same pattern.\n",
    "\n",
    "Philadelphia sports fans are unpredictable. With our triumph in the Superbowl in 2018, fans wreaked havoc throughout the city: igniting fires, flipping over cars, climbing poles, and clashing with the police. While our data shows that increased crime rates can be correlated with Eagles and Phillies sports wins, for now it is safe to conclude, *Philly sports fans are just extremely passionate about their teams regardless of the outcome of any game during any season*.\n"
   ]
  },
  {
   "cell_type": "markdown",
   "id": "2b1536d3-5e11-43ba-a844-8b89bbeb6b69",
   "metadata": {},
   "source": [
    "![fire!](img/fire2.png)"
   ]
  }
 ],
 "metadata": {
  "citation-manager": {
   "items": {}
  },
  "kernelspec": {
   "display_name": "Python 3.8",
   "language": "python",
   "name": "python3"
  },
  "language_info": {
   "codemirror_mode": {
    "name": "ipython",
    "version": 3
   },
   "file_extension": ".py",
   "mimetype": "text/x-python",
   "name": "python",
   "nbconvert_exporter": "python",
   "pygments_lexer": "ipython3",
   "version": "3.8.8"
  }
 },
 "nbformat": 4,
 "nbformat_minor": 5
}
